{
 "cells": [
  {
   "cell_type": "markdown",
   "metadata": {},
   "source": [
    "# Compute sample mean returns and sample covariance matrix"
   ]
  },
  {
   "cell_type": "code",
   "execution_count": null,
   "metadata": {},
   "outputs": [],
   "source": [
    "import numpy as np\n",
    "import pandas as pd\n",
    "\n",
    "# delete first 2 rows in russell_prices.txt\n",
    "# each row is a random variable\n",
    "asset = np.loadtxt('russell_prices.txt')\n",
    "A = asset[:, 0:-1]\n",
    "A_plus = asset[:, 1:]\n",
    "returns_matrix = (A_plus - A) / A\n",
    "sample_mean_returns = np.mean(returns_matrix, axis=1)\n",
    "sample_covariance_matrix = np.cov(returns_matrix)"
   ]
  },
  {
   "cell_type": "code",
   "execution_count": null,
   "metadata": {},
   "outputs": [],
   "source": [
    "sample_mean_returns = sample_mean_returns[:, np.newaxis]\n",
    "sample_mean_returns"
   ]
  },
  {
   "cell_type": "code",
   "execution_count": null,
   "metadata": {},
   "outputs": [],
   "source": [
    "sample_covariance_matrix"
   ]
  },
  {
   "cell_type": "markdown",
   "metadata": {},
   "source": [
    "# Implement the algorithm for mean-variance portfolio optimization problem described in \"algorithm2.pdf\".  Here each asset can have weight between 0 and 1"
   ]
  },
  {
   "cell_type": "code",
   "execution_count": null,
   "metadata": {},
   "outputs": [],
   "source": [
    "# Set constraints, lower bound and upper bound\n",
    "l = np.zeros((asset.shape[0], 1))\n",
    "u = np.ones((asset.shape[0], 1))\n",
    "\n",
    "# Step 1.Initialize algorithm\n",
    "def Achieve_feasibility(asset):\n",
    "\n",
    "    if np.sum(l) > 1 or np.sum(u) < 1:\n",
    "        print(\"The problem is infeasible.\")\n",
    "        return\n",
    "\n",
    "    # Initialize weights\n",
    "    x = np.zeros(asset.shape[0])\n",
    "\n",
    "    # Iterate through weights to achieve feasibility\n",
    "    for i in range(len(x)):\n",
    "        max_increase = u[i] - x[i]\n",
    "        total = np.sum(x)\n",
    "        # If max_increase keeps sum below 1, add whole increase\n",
    "        if total + max_increase <= 1:\n",
    "            x[i] += max_increase\n",
    "        # Otherwise, only add as much as possible\n",
    "        else:\n",
    "            x[i] += (1 - total)\n",
    "        # Stop if the last increase reached feasibility\n",
    "        if np.sum(x) == 1:\n",
    "            break\n",
    "    x = x[:, np.newaxis]\n",
    "    return x"
   ]
  },
  {
   "cell_type": "code",
   "execution_count": null,
   "metadata": {},
   "outputs": [],
   "source": [
    "# Step2 (k.1)\n",
    "\n",
    "def Compute_Vector_Yk(x, Lambda):\n",
    "#     Compute Gradient F(x_k)\n",
    "    gradient = 2*Lambda*np.dot(sample_covariance_matrix, x) - sample_mean_returns\n",
    "    gradient_flatten = gradient.flatten()\n",
    "#     Sorted Gradient (Descending) by index\n",
    "    sorted_index = np.argsort(-gradient_flatten)\n",
    "    sorted_index = sorted_index.flatten()\n",
    "#     Use Matrix Calculation to save time\n",
    "    gradient_objective = np.inf\n",
    "    y_objective = np.zeros(len(gradient_flatten))\n",
    "    x_flatten = x.flatten()\n",
    "    l_flatten = l.flatten()\n",
    "    u_flatten = u.flatten()\n",
    "    for m in range(len(x)):\n",
    "        y = np.zeros(len(x))\n",
    "        y[sorted_index[:m]] = l_flatten[sorted_index[:m]] - x_flatten[sorted_index[:m]]\n",
    "        y[sorted_index[m+1:]] = u_flatten[sorted_index[m+1:]] - x_flatten[sorted_index[m+1:]]\n",
    "        y[sorted_index[m]] = 0 - y.sum()\n",
    "        y = y[:, np.newaxis]\n",
    "#         x_add_y = np.add(x, y)\n",
    "        gradient_y = np.dot(gradient.T, y)\n",
    "#      Check Y_k feasibility, optimized ways!\n",
    "#         if abs(np.sum(x_add_y)-1)<=1e-06 and np.all(l_flatten <= x_add_y.flatten()) and np.all(x_add_y.flatten() <= u_flatten) and gradient_y[0][0] < 0:\n",
    "        if l_flatten[sorted_index[m]] <= y[sorted_index[m]][0] + x[sorted_index[m]][0] and u_flatten[sorted_index[m]] >= y[sorted_index[m]][0] + x[sorted_index[m]][0]:\n",
    "            if gradient_y[0][0] < gradient_objective and gradient_y[0][0] < 0:\n",
    "                gradient_objective = gradient_y[0][0]\n",
    "                y_objective = y.copy()\n",
    "    return y_objective, gradient_objective\n"
   ]
  },
  {
   "cell_type": "code",
   "execution_count": null,
   "metadata": {},
   "outputs": [],
   "source": [
    "# Step2 (k.2)\n",
    "\n",
    "import matplotlib.pyplot as plt\n",
    "\n",
    "def Improvement_phase(x, Lambda=1.0, Plotting_Option=False):\n",
    "    optimal_cost = np.inf\n",
    "    cost_gradient_list = []\n",
    "    count = 0\n",
    "    while (1):\n",
    "        y, gradient_objective = Compute_Vector_Yk(x, Lambda)\n",
    "#         If y(k) returns with a zeros vector or the algorithm iterates over 100 times, it means that it has reached optimal solution\n",
    "        if count>100 or np.all(y == 0):\n",
    "            break\n",
    "        else:\n",
    "            count += 1\n",
    "        \n",
    "        if Lambda != 0:\n",
    "            S_numerator = gradient_objective\n",
    "            S_denominator = 2*Lambda*np.dot(np.dot(y.T, sample_covariance_matrix), y)\n",
    "            S = -1 * S_numerator / S_denominator[0][0]\n",
    "            if S < 0:\n",
    "                S = 0\n",
    "            elif S > 1:\n",
    "                S = 1\n",
    "        else: # Lambda == 0\n",
    "            Gs_derivative = -1 * np.dot(sample_mean_returns.T, y)\n",
    "            S_prime = Gs_derivative[0][0]\n",
    "            if S_prime > 0:\n",
    "                S = 0\n",
    "            else:\n",
    "                S = 1\n",
    "#         Given x_k, y_k, s, update x_k+1 vector\n",
    "        x = x + S*y\n",
    "        returns = np.dot(sample_mean_returns.T, x)\n",
    "        variance = np.dot(np.dot(x.T, sample_covariance_matrix), x)\n",
    "        cost = Lambda*variance - returns\n",
    "        cost_gradient_list.append(cost[0][0])\n",
    "        if optimal_cost > cost:\n",
    "            optimal_x = x.copy()\n",
    "            optimal_returns = returns[0][0]\n",
    "            optimal_variance = variance[0][0]\n",
    "            optimal_cost = cost[0][0]\n",
    "#     Plot the gradient curve step by step\n",
    "    if Plotting_Option:\n",
    "        plt.plot(range(count), cost_gradient_list)\n",
    "        plt.xlabel('Number of iterations')\n",
    "        plt.ylabel('F(x)')\n",
    "        plt.legend()\n",
    "        plt.grid(True)\n",
    "        plt.show()\n",
    "    return optimal_x, optimal_returns, optimal_variance, optimal_cost"
   ]
  },
  {
   "cell_type": "code",
   "execution_count": null,
   "metadata": {},
   "outputs": [],
   "source": [
    "x = Achieve_feasibility(asset)\n",
    "portfolio, returns, variance, cost = Improvement_phase(x, 1.0, True)\n",
    "portfolio\n",
    "# portfolio[portfolio>0]"
   ]
  },
  {
   "cell_type": "markdown",
   "metadata": {},
   "source": [
    "# For lambda = 0, how many assets do you have in your optimal basket, and what risk (total variance) do you have?"
   ]
  },
  {
   "cell_type": "code",
   "execution_count": null,
   "metadata": {},
   "outputs": [],
   "source": [
    "x = Achieve_feasibility(asset)\n",
    "portfolio, returns, variance_s2_0, cost = Improvement_phase(x, 0.0)"
   ]
  },
  {
   "cell_type": "code",
   "execution_count": null,
   "metadata": {},
   "outputs": [],
   "source": [
    "maxindex  = np.argmax(portfolio)\n",
    "maxindex_sample  = np.argmax(sample_mean_returns)\n",
    "print(\"Given lambda=0, the amount of assets in our optimal basket is %d, which is the %dth stock.\" \\\n",
    "      % (len(portfolio[portfolio>0]), maxindex))\n",
    "print(\"This is the same number of stock %d, which has maximum mean returns.\" % maxindex_sample)\n",
    "print(\"The risk (total variance) would be %f\" % variance_s2_0)"
   ]
  },
  {
   "cell_type": "markdown",
   "metadata": {},
   "source": [
    "# Plot an approximate risk (variance) v. return curve by running the optimization over different choices of lambda"
   ]
  },
  {
   "cell_type": "code",
   "execution_count": null,
   "metadata": {},
   "outputs": [],
   "source": [
    "import matplotlib.pyplot as plt\n",
    "v = []\n",
    "r = []\n",
    "for lam in np.arange(0, 5, 0.1):\n",
    "    portfolio, returns, variance, cost = Improvement_phase(x, lam)\n",
    "    v.append(variance)\n",
    "    r.append(returns)\n",
    "\n",
    "plt.plot(v, r, 'r-', label='curve')\n",
    "# plt.scatter(v, r, c='r')\n",
    "plt.xlabel('variance')\n",
    "plt.ylabel('returns')\n",
    "plt.legend()\n",
    "plt.grid(True)\n",
    "plt.show()"
   ]
  },
  {
   "cell_type": "code",
   "execution_count": null,
   "metadata": {},
   "outputs": [],
   "source": [
    "portfolio, returns, variance_s2_min, cost = Improvement_phase(x, 10000)"
   ]
  },
  {
   "cell_type": "code",
   "execution_count": null,
   "metadata": {},
   "outputs": [],
   "source": [
    "print(\"Given lambda = 10000, the smallest variance we calculate is %.10f\" % variance_s2_min)"
   ]
  },
  {
   "cell_type": "markdown",
   "metadata": {},
   "source": [
    "# Define s2_mid = 0.5(variance_3 + variance_4).  Estimate the value of lambda needed so that your optimal portfolio has variance s2_mid."
   ]
  },
  {
   "cell_type": "code",
   "execution_count": null,
   "metadata": {},
   "outputs": [],
   "source": [
    "#binary search\n",
    "x = Achieve_feasibility(asset)\n",
    "s2_0 = variance_s2_0\n",
    "s2_min = variance_s2_min\n",
    "lambda_left = 0\n",
    "lambda_right = 2\n",
    "s2_mid = 0.5 * (s2_0 + s2_min)\n",
    "while 1:\n",
    "    lambda_search = 0.5 * (lambda_left + lambda_right)\n",
    "    portfolio, returns, variance_search, cost = Improvement_phase(x, lambda_search)\n",
    "    if abs(variance_search - s2_mid) <= 1e-05:\n",
    "        break\n",
    "    else:\n",
    "        if variance_search > s2_mid:\n",
    "            lambda_left = lambda_search\n",
    "        elif variance_search < s2_mid:\n",
    "            lambda_right = lambda_search\n",
    "\n",
    "print(\"The value of lambda needed so that our optimal portfolio has variance s2_mid is %.8f\" % lambda_search)"
   ]
  },
  {
   "cell_type": "code",
   "execution_count": null,
   "metadata": {},
   "outputs": [],
   "source": [
    "#sanity check, when lambda = lambda_search, calculate the variance\n",
    "portfolio, returns, variance_check, cost = Improvement_phase(x, lambda_search)\n",
    "print(\"s2_mid is %.6f\" % s2_mid)\n",
    "print(\"variance_check is %.6f\" % variance_check)"
   ]
  },
  {
   "cell_type": "code",
   "execution_count": null,
   "metadata": {},
   "outputs": [],
   "source": []
  }
 ],
 "metadata": {
  "kernelspec": {
   "display_name": "Python 3",
   "language": "python",
   "name": "python3"
  },
  "language_info": {
   "codemirror_mode": {
    "name": "ipython",
    "version": 3
   },
   "file_extension": ".py",
   "mimetype": "text/x-python",
   "name": "python",
   "nbconvert_exporter": "python",
   "pygments_lexer": "ipython3",
   "version": "3.6.3"
  },
  "toc": {
   "base_numbering": 1,
   "nav_menu": {},
   "number_sections": true,
   "sideBar": true,
   "skip_h1_title": false,
   "title_cell": "Table of Contents",
   "title_sidebar": "Contents",
   "toc_cell": false,
   "toc_position": {},
   "toc_section_display": true,
   "toc_window_display": false
  }
 },
 "nbformat": 4,
 "nbformat_minor": 2
}
