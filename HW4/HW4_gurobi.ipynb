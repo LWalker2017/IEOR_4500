{
 "cells": [
  {
   "cell_type": "code",
   "execution_count": 40,
   "metadata": {
    "scrolled": true
   },
   "outputs": [
    {
     "name": "stdout",
     "output_type": "stream",
     "text": [
      "Optimize a model with 1 rows, 3 columns and 3 nonzeros\n",
      "Model has 1 quadratic objective term\n",
      "Coefficient statistics:\n",
      "  Matrix range     [1e+00, 1e+00]\n",
      "  Objective range  [1e+00, 1e+00]\n",
      "  QObjective range [2e+00, 2e+00]\n",
      "  Bounds range     [5e+01, 5e+01]\n",
      "  RHS range        [5e+01, 5e+01]\n",
      "Presolve removed 1 rows and 3 columns\n",
      "Presolve time: 0.02s\n",
      "Presolve: All rows and columns removed\n",
      "\n",
      "Barrier solved model in 0 iterations and 0.02 seconds\n",
      "Optimal objective 2.50000000e+03\n",
      "Model Status: 2\n",
      " -> LP optimal, value = 2500\n",
      "\n",
      "x_0 = 50\n",
      "x_1 = 0\n",
      "x_2 = 0\n"
     ]
    }
   ],
   "source": [
    "import numpy as np\n",
    "import math\n",
    "from gurobipy import *\n",
    "\n",
    "alpha, pi, N, T = 1e-03, 0.8, 50, 3\n",
    "m = Model(\"optimal\")\n",
    "m.ModelSense = -1 #maximize\n",
    "\n",
    "# Create variables and put into a dictionary\n",
    "xvar = {}\n",
    "for j in range(T):\n",
    "    xvar[j] = m.addVar(lb = 0, ub = N, obj = 1, vtype = GRB.CONTINUOUS, name = \"x_\"+str(j))\n",
    "\n",
    "# Update model to integrate new variables\n",
    "m.update()\n",
    "\n",
    "# add first constraint\n",
    "row1 = np.ones(T, dtype='double')\n",
    "xpr = LinExpr()\n",
    "for j in range(T):\n",
    "    xpr += row1[j]*xvar[j]\n",
    "m.addConstr(xpr == N, name=\"const1\")\n",
    "\n",
    "# Set objective\n",
    "obj = QuadExpr()\n",
    "coefficient = 1\n",
    "# for i in range(T):\n",
    "#     coefficient *= (1 - alpha*(xvar[i])**pi)\n",
    "#     obj += coefficient*xvar[i]\n",
    "m.setObjective(xvar[0]*xvar[0] + xvar[1] + xvar[2])\n",
    "\n",
    "m.update()\n",
    "\n",
    "m.write(\"optimal.lp\")\n",
    "\n",
    "m.optimize()\n",
    "\n",
    "code = \"optimal\"\n",
    "\n",
    "if m.status == GRB.status.INF_OR_UNBD:\n",
    "    print('->LP infeasible or unbounded\\n')\n",
    "    code = \"inf_or_unbd\"\n",
    "if m.status == GRB.status.UNBOUNDED:\n",
    "    print('->LP unbounded\\n')\n",
    "    code = \"unbd\"\n",
    "if m.status == GRB.status.INFEASIBLE:\n",
    "    print('->LP infeasible\\n')\n",
    "    code = \"infeas\"\n",
    "\n",
    "print('Model Status:', m.status)\n",
    "print(\" -> LP optimal, value = %g\\n\" %(m.objval))\n",
    "\n",
    "xsol = np.zeros(T)\n",
    "for j in range(T):\n",
    "    print (\"%s = %g\" %(xvar[j].varname, xvar[j].x))\n",
    "    xsol[j] = xvar[j].x"
   ]
  },
  {
   "cell_type": "code",
   "execution_count": null,
   "metadata": {},
   "outputs": [],
   "source": []
  }
 ],
 "metadata": {
  "kernelspec": {
   "display_name": "Python 3",
   "language": "python",
   "name": "python3"
  },
  "language_info": {
   "codemirror_mode": {
    "name": "ipython",
    "version": 3
   },
   "file_extension": ".py",
   "mimetype": "text/x-python",
   "name": "python",
   "nbconvert_exporter": "python",
   "pygments_lexer": "ipython3",
   "version": "3.6.3"
  },
  "toc": {
   "base_numbering": 1,
   "nav_menu": {},
   "number_sections": true,
   "sideBar": true,
   "skip_h1_title": false,
   "title_cell": "Table of Contents",
   "title_sidebar": "Contents",
   "toc_cell": false,
   "toc_position": {},
   "toc_section_display": true,
   "toc_window_display": false
  }
 },
 "nbformat": 4,
 "nbformat_minor": 2
}
