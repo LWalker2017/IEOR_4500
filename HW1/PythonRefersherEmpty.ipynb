{
 "cells": [
  {
   "cell_type": "markdown",
   "metadata": {},
   "source": [
    "## Pyhton\n",
    "#### Main caracteristics:\n",
    "- Interpreted\n",
    "- Weakly typed\n",
    "- Indentation is part of the syntax\n",
    "- Case sensitive\n",
    "#### Benefits:\n",
    "- Easy to write code\n",
    "- Many libraries providing acces to complicated functionalities (numpy, machine learning, plotting)\n",
    "- No semicolons :)\n",
    "#### Drawbacks:\n",
    "- Slow\n",
    "- Error prone\n",
    "#### Tips:\n",
    "- Loops are slow avoid them whenver it is possible\n",
    "- Beware of global variables"
   ]
  },
  {
   "cell_type": "markdown",
   "metadata": {},
   "source": [
    "#### Example: Variable initialization"
   ]
  },
  {
   "cell_type": "code",
   "execution_count": null,
   "metadata": {},
   "outputs": [],
   "source": []
  },
  {
   "cell_type": "markdown",
   "metadata": {},
   "source": [
    "#### Caveat: initialized variables stay in memory until you restart the kernel\n",
    "One way to avoid this is to use functions whenever possible ( variable defined in a function only exists in the body of the function )"
   ]
  },
  {
   "cell_type": "markdown",
   "metadata": {},
   "source": [
    "## Control Flow\n",
    "#### IF node"
   ]
  },
  {
   "cell_type": "code",
   "execution_count": 1,
   "metadata": {},
   "outputs": [
    {
     "name": "stdout",
     "output_type": "stream",
     "text": [
      "-1\n"
     ]
    }
   ],
   "source": [
    "a = -1\n",
    "if (a > 2 or a <= -8 ) or ( a == 0 ) :\n",
    "    print( a )\n",
    "elif a != 1:\n",
    "        print( a )\n",
    "else:\n",
    "    print( a )"
   ]
  },
  {
   "cell_type": "markdown",
   "metadata": {},
   "source": [
    "#### For loop"
   ]
  },
  {
   "cell_type": "code",
   "execution_count": 2,
   "metadata": {},
   "outputs": [
    {
     "name": "stdout",
     "output_type": "stream",
     "text": [
      "0\n",
      "1\n",
      "2\n",
      "3\n",
      "4\n",
      "5\n",
      "6\n",
      "7\n",
      "8\n",
      "9\n"
     ]
    }
   ],
   "source": [
    "for i in range(10):\n",
    "    print( i )"
   ]
  },
  {
   "cell_type": "markdown",
   "metadata": {},
   "source": [
    "#### While"
   ]
  },
  {
   "cell_type": "code",
   "execution_count": 3,
   "metadata": {},
   "outputs": [
    {
     "name": "stdout",
     "output_type": "stream",
     "text": [
      "0\n",
      "1\n",
      "2\n",
      "3\n",
      "4\n",
      "5\n",
      "6\n",
      "7\n",
      "8\n",
      "9\n"
     ]
    }
   ],
   "source": [
    "i = 0\n",
    "while ( i < 10 ) :\n",
    "    print( i )\n",
    "    i += 1"
   ]
  },
  {
   "cell_type": "markdown",
   "metadata": {},
   "source": [
    "## Defining a function"
   ]
  },
  {
   "cell_type": "code",
   "execution_count": null,
   "metadata": {},
   "outputs": [],
   "source": []
  },
  {
   "cell_type": "markdown",
   "metadata": {},
   "source": [
    "##### being able to state agruments in the worng order is quite practical  ( Will not work in most other languages )\n",
    "\n",
    "## Defining a class"
   ]
  },
  {
   "cell_type": "code",
   "execution_count": 4,
   "metadata": {},
   "outputs": [
    {
     "name": "stdout",
     "output_type": "stream",
     "text": [
      "x:  2\n"
     ]
    }
   ],
   "source": [
    "class Class:\n",
    "    \n",
    "    ## Constructor\n",
    "    def __init__( self, x ):\n",
    "        self.member = x\n",
    "        \n",
    "    ## Method\n",
    "    def method( self ):\n",
    "        print( \"x: \", self.member)\n",
    "    \n",
    "Object = Class( 2 )\n",
    "Object.method()"
   ]
  },
  {
   "cell_type": "markdown",
   "metadata": {},
   "source": [
    "## Importing a library"
   ]
  },
  {
   "cell_type": "code",
   "execution_count": 5,
   "metadata": {},
   "outputs": [],
   "source": [
    "import numpy as np # all numpy functions will be accessible using np.name_of_function\n",
    "from numpy.linalg import norm # import a single function: will be directly accesible without the \"numpy\" prefix"
   ]
  },
  {
   "cell_type": "markdown",
   "metadata": {},
   "source": [
    "## Plotting"
   ]
  },
  {
   "cell_type": "code",
   "execution_count": 6,
   "metadata": {},
   "outputs": [],
   "source": [
    "from matplotlib import pyplot as plt"
   ]
  },
  {
   "cell_type": "code",
   "execution_count": 7,
   "metadata": {},
   "outputs": [
    {
     "data": {
      "text/plain": [
       "[<matplotlib.lines.Line2D at 0x72fa090>]"
      ]
     },
     "execution_count": 7,
     "metadata": {},
     "output_type": "execute_result"
    },
    {
     "data": {
      "image/png": "[encoded data removed]",
      "text/plain": [
       "<matplotlib.figure.Figure at 0x6c54950>"
      ]
     },
     "metadata": {
      "needs_background": "light"
     },
     "output_type": "display_data"
    }
   ],
   "source": [
    "x = np.linspace( start = - 10, stop = 10, num = 20 ) # start and stop are included, num is the size of the array\n",
    "plt.plot( x, x**3 )"
   ]
  },
  {
   "cell_type": "markdown",
   "metadata": {},
   "source": [
    "## Numpy"
   ]
  },
  {
   "cell_type": "code",
   "execution_count": 8,
   "metadata": {},
   "outputs": [],
   "source": [
    "import numpy as np"
   ]
  },
  {
   "cell_type": "markdown",
   "metadata": {},
   "source": [
    "#### Matrix / array initializer"
   ]
  },
  {
   "cell_type": "code",
   "execution_count": 9,
   "metadata": {},
   "outputs": [
    {
     "ename": "NameError",
     "evalue": "name 'Zero' is not defined",
     "output_type": "error",
     "traceback": [
      "\u001b[1;31m---------------------------------------------------------------------------\u001b[0m",
      "\u001b[1;31mNameError\u001b[0m                                 Traceback (most recent call last)",
      "\u001b[1;32m<ipython-input-9-4c91bd82a4a0>\u001b[0m in \u001b[0;36m<module>\u001b[1;34m\u001b[0m\n\u001b[0;32m     11\u001b[0m \u001b[1;31m# np.full\u001b[0m\u001b[1;33m\u001b[0m\u001b[1;33m\u001b[0m\u001b[0m\n\u001b[0;32m     12\u001b[0m \u001b[1;33m\u001b[0m\u001b[0m\n\u001b[1;32m---> 13\u001b[1;33m \u001b[0mprint\u001b[0m\u001b[1;33m(\u001b[0m \u001b[1;34m\"Zero:\\n\"\u001b[0m\u001b[1;33m,\u001b[0m \u001b[0mZero\u001b[0m\u001b[1;33m,\u001b[0m \u001b[1;34m\"\\nOne:\\n\"\u001b[0m\u001b[1;33m,\u001b[0m \u001b[0mOne\u001b[0m\u001b[1;33m,\u001b[0m \u001b[1;34m\"\\nIdentity:\\n\"\u001b[0m\u001b[1;33m,\u001b[0m \u001b[0mId\u001b[0m\u001b[1;33m,\u001b[0m \u001b[1;34m\"\\nFives:\\n\"\u001b[0m\u001b[1;33m,\u001b[0m \u001b[0mFull\u001b[0m \u001b[1;33m)\u001b[0m\u001b[1;33m\u001b[0m\u001b[0m\n\u001b[0m\u001b[0;32m     14\u001b[0m \u001b[1;33m\u001b[0m\u001b[0m\n\u001b[0;32m     15\u001b[0m \u001b[1;33m\u001b[0m\u001b[0m\n",
      "\u001b[1;31mNameError\u001b[0m: name 'Zero' is not defined"
     ]
    }
   ],
   "source": [
    "#shape = ( 4 )\n",
    "shape = ( 2 , 2 )\n",
    "\n",
    "# simple matrix\n",
    "# Zeros\n",
    "\n",
    "# Ones\n",
    "\n",
    "# Identity\n",
    "\n",
    "# np.full\n",
    "\n",
    "print( \"Zero:\\n\", Zero, \"\\nOne:\\n\", One, \"\\nIdentity:\\n\", Id, \"\\nFives:\\n\", Full )\n",
    "\n",
    "\n"
   ]
  },
  {
   "cell_type": "markdown",
   "metadata": {},
   "source": [
    "#### Create random matrices / using axis"
   ]
  },
  {
   "cell_type": "code",
   "execution_count": 32,
   "metadata": {},
   "outputs": [
    {
     "name": "stdout",
     "output_type": "stream",
     "text": [
      "Mean uninform:  [0.51819351 0.5128419 ]\n",
      "Mean normal:    [ 0.06802477 -0.07946009]\n",
      "test:  -0.005717657537831542\n"
     ]
    }
   ],
   "source": [
    "\n",
    "Uniform = np.random.rand( 1000, 2 )\n",
    "Centered_Normal = np.random.randn( 1000,2 )   \n",
    "\n",
    "print( \"Mean uninform: \",np.mean(Uniform, axis = 0 ) ) # axis = 0 mean of each column / axis = 1 meam of each line\n",
    "print( \"Mean normal:   \",np.mean(Centered_Normal, axis = 0 ) )\n",
    "\n",
    "test = np.random.rand(3 , 4)\n",
    "print( \"test: \",np.mean(Centered_Normal) )"
   ]
  },
  {
   "cell_type": "markdown",
   "metadata": {},
   "source": [
    "#### Matrix operations"
   ]
  },
  {
   "cell_type": "code",
   "execution_count": 33,
   "metadata": {},
   "outputs": [
    {
     "data": {
      "text/plain": [
       "array([[ 51.57791436, -53.43599963],\n",
       "       [ 35.42957532, -27.91674952]])"
      ]
     },
     "execution_count": 33,
     "metadata": {},
     "output_type": "execute_result"
    }
   ],
   "source": [
    "# Element wise product\n",
    "Uniform * Centered_Normal\n",
    "# Martix multiplication\n",
    "np.dot( Uniform.transpose() , Centered_Normal ) # transpose before product so that dimensions match"
   ]
  },
  {
   "cell_type": "markdown",
   "metadata": {},
   "source": [
    "### Slicing: very practical"
   ]
  },
  {
   "cell_type": "code",
   "execution_count": 60,
   "metadata": {},
   "outputs": [
    {
     "data": {
      "text/plain": [
       "array([1., 3., 5., 7., 9.])"
      ]
     },
     "execution_count": 60,
     "metadata": {},
     "output_type": "execute_result"
    }
   ],
   "source": [
    "x = np.linspace( start = 1, stop = 10, num = 10 )\n",
    "#Start at 3rd element\n",
    "x[3::]\n",
    "# Stop at 5th ellement\n",
    "x[:5:]\n",
    "# Stop at 2 element from the right\n",
    "x[:-2:]\n",
    "# Get every two element\n",
    "x[::2]\n",
    "#Can be combined"
   ]
  },
  {
   "cell_type": "markdown",
   "metadata": {},
   "source": [
    "## Some useful Algebra\n",
    "#### Covariance"
   ]
  },
  {
   "cell_type": "code",
   "execution_count": 62,
   "metadata": {},
   "outputs": [
    {
     "data": {
      "text/plain": [
       "array([[1.29427209, 0.1624325 ],\n",
       "       [0.1624325 , 1.44623022]])"
      ]
     },
     "execution_count": 62,
     "metadata": {},
     "output_type": "execute_result"
    }
   ],
   "source": [
    "x = np.random.randn( 2 , 10 ) ## Each row of X represents a variable, and each column a single observation of all those variables\n",
    "#So in our case: x contains 2 random vars and 10 obeservations for each r.v.\n",
    "C = np.cov( x )\n",
    "C"
   ]
  },
  {
   "cell_type": "markdown",
   "metadata": {},
   "source": [
    "#### Norm / Eigenvalues / Eigenvectors"
   ]
  },
  {
   "cell_type": "code",
   "execution_count": 64,
   "metadata": {},
   "outputs": [
    {
     "data": {
      "text/plain": [
       "(array([1.19092705, 1.54957526]), array([[-0.84371112, -0.5367975 ],\n",
       "        [ 0.5367975 , -0.84371112]]))"
      ]
     },
     "execution_count": 64,
     "metadata": {},
     "output_type": "execute_result"
    }
   ],
   "source": [
    "import numpy.linalg as lg\n",
    "norm = lg.norm(C)\n",
    "Eigenvalues,Eigenvectors = lg.eig(C)\n",
    "Eigenvalues,Eigenvectors"
   ]
  },
  {
   "cell_type": "markdown",
   "metadata": {},
   "source": [
    "## Some tips to avoid loops\n",
    "In python loops are slow (because it is an interpreted language), in many cases loops can be avoided using libraries which are built in C and therefore run way FASTER\n",
    "\n",
    "### Example: Sum all values of a matrix\n"
   ]
  },
  {
   "cell_type": "code",
   "execution_count": 65,
   "metadata": {},
   "outputs": [],
   "source": [
    "n = 100\n",
    "# random normal matrix\n",
    "M = np.random.randn( n, n )"
   ]
  },
  {
   "cell_type": "markdown",
   "metadata": {},
   "source": [
    "#### Using built in matrix operations"
   ]
  },
  {
   "cell_type": "code",
   "execution_count": 66,
   "metadata": {},
   "outputs": [
    {
     "name": "stdout",
     "output_type": "stream",
     "text": [
      "14 µs ± 170 ns per loop (mean ± std. dev. of 7 runs, 100000 loops each)\n"
     ]
    }
   ],
   "source": [
    "%%timeit\n",
    "np.sum( M )"
   ]
  },
  {
   "cell_type": "markdown",
   "metadata": {},
   "source": [
    "#### Naive loop"
   ]
  },
  {
   "cell_type": "code",
   "execution_count": 67,
   "metadata": {},
   "outputs": [
    {
     "name": "stdout",
     "output_type": "stream",
     "text": [
      "4.62 ms ± 201 µs per loop (mean ± std. dev. of 7 runs, 100 loops each)\n"
     ]
    }
   ],
   "source": [
    "%%timeit\n",
    "# sum using loops\n",
    "res = 0\n",
    "for i in range(n):\n",
    "    for j in range(n):\n",
    "        res += M[i,j]\n",
    "res"
   ]
  },
  {
   "cell_type": "code",
   "execution_count": null,
   "metadata": {},
   "outputs": [],
   "source": []
  },
  {
   "cell_type": "markdown",
   "metadata": {},
   "source": [
    "#### Using a mask\n",
    "example: sum all positive values"
   ]
  },
  {
   "cell_type": "code",
   "execution_count": 68,
   "metadata": {},
   "outputs": [
    {
     "data": {
      "text/plain": [
       "(array([ 0,  0,  0, ..., 99, 99, 99], dtype=int32),\n",
       " array([ 1,  2,  3, ..., 93, 96, 97], dtype=int32))"
      ]
     },
     "execution_count": 68,
     "metadata": {},
     "output_type": "execute_result"
    }
   ],
   "source": [
    "# sum all positive values\n",
    "Mask = np.where( M > 0 )\n",
    "# np.sum( M[Mask] )\n",
    "Mask"
   ]
  },
  {
   "cell_type": "code",
   "execution_count": 204,
   "metadata": {},
   "outputs": [
    {
     "data": {
      "text/plain": [
       "1595894.0735039813"
      ]
     },
     "execution_count": 204,
     "metadata": {},
     "output_type": "execute_result"
    }
   ],
   "source": [
    "# using loops\n",
    "res = 0\n",
    "for i in range(n):\n",
    "    for j in range(n):\n",
    "        if M[i,j] > 0 :\n",
    "            res += M[i,j]\n",
    "res"
   ]
  },
  {
   "cell_type": "code",
   "execution_count": 79,
   "metadata": {},
   "outputs": [
    {
     "data": {
      "text/plain": [
       "array([[[-3.43955359e-135, -7.31426284e-304,  3.14146106e-294,\n",
       "         -2.14828317e-154],\n",
       "        [ 2.84586716e-260,  2.41920985e-231,  9.54548304e-243,\n",
       "         -1.27168045e+005],\n",
       "        [ 7.98870070e-226, -2.42653072e+213,  2.81036889e-273,\n",
       "          3.30789443e+124]],\n",
       "\n",
       "       [[ 7.23153742e-308,  2.04721055e-306,  1.19422930e-125,\n",
       "          3.82184612e+072],\n",
       "        [ 4.08185048e+255,  6.46401855e-307,  1.04522752e-062,\n",
       "          3.30831324e-293],\n",
       "        [-1.73221684e+106, -4.35063655e+173,  7.93029284e-301,\n",
       "          1.08646187e-311]]])"
      ]
     },
     "execution_count": 79,
     "metadata": {},
     "output_type": "execute_result"
    }
   ],
   "source": [
    "play = np.empty((2,3,4))\n",
    "play"
   ]
  },
  {
   "cell_type": "code",
   "execution_count": 88,
   "metadata": {},
   "outputs": [
    {
     "data": {
      "text/plain": [
       "(4, 1)"
      ]
     },
     "execution_count": 88,
     "metadata": {},
     "output_type": "execute_result"
    }
   ],
   "source": [
    "x = np.array([1,2,3,4])\n",
    "x = np.expand_dims(x, axis=1)\n",
    "x.shape"
   ]
  },
  {
   "cell_type": "code",
   "execution_count": null,
   "metadata": {},
   "outputs": [],
   "source": []
  }
 ],
 "metadata": {
  "kernelspec": {
   "display_name": "Python 3",
   "language": "python",
   "name": "python3"
  },
  "language_info": {
   "codemirror_mode": {
    "name": "ipython",
    "version": 3
   },
   "file_extension": ".py",
   "mimetype": "text/x-python",
   "name": "python",
   "nbconvert_exporter": "python",
   "pygments_lexer": "ipython3",
   "version": "3.6.3"
  },
  "toc": {
   "base_numbering": 1,
   "nav_menu": {},
   "number_sections": true,
   "sideBar": true,
   "skip_h1_title": false,
   "title_cell": "Table of Contents",
   "title_sidebar": "Contents",
   "toc_cell": false,
   "toc_position": {},
   "toc_section_display": true,
   "toc_window_display": false
  }
 },
 "nbformat": 4,
 "nbformat_minor": 2
}
