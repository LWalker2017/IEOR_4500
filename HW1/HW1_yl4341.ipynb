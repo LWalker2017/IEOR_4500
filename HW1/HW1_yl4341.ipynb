{
 "cells": [
  {
   "cell_type": "markdown",
   "metadata": {},
   "source": [
    "# Compute sample mean returns and sample covariance matrix"
   ]
  },
  {
   "cell_type": "code",
   "execution_count": null,
   "metadata": {},
   "outputs": [],
   "source": [
    "import numpy as np\n",
    "import pandas as pd\n",
    "\n",
    "# delete first 2 rows in russell_prices.txt\n",
    "# each row is a random variable\n",
    "asset = np.loadtxt('russell_prices.txt')\n",
    "A = asset[:, 0:-1]\n",
    "A_plus = asset[:, 1:]\n",
    "returns_matrix = (A_plus - A) / A\n",
    "sample_mean_returns = np.mean(returns_matrix, axis=1)\n",
    "sample_covariance_matrix = np.cov(returns_matrix)"
   ]
  },
  {
   "cell_type": "code",
   "execution_count": null,
   "metadata": {},
   "outputs": [],
   "source": [
    "sample_mean_returns"
   ]
  },
  {
   "cell_type": "code",
   "execution_count": null,
   "metadata": {},
   "outputs": [],
   "source": [
    "sample_covariance_matrix"
   ]
  },
  {
   "cell_type": "markdown",
   "metadata": {},
   "source": [
    "# Implement the algorithm for mean-variance portfolio optimization problem described in \"qp.pdf\".  Here each asset can have weight between 0 and 1"
   ]
  },
  {
   "cell_type": "code",
   "execution_count": null,
   "metadata": {},
   "outputs": [],
   "source": [
    "# Set constraints, lower bound and upper bound\n",
    "l = np.zeros(asset.shape[0])\n",
    "u = np.ones(asset.shape[0])\n",
    "\n",
    "# Initialize algorithm\n",
    "def Achieve_feasibility(asset):\n",
    "\n",
    "    if np.sum(l) > 1 or np.sum(u) < 1:\n",
    "        print(\"The problem is infeasible.\")\n",
    "        return\n",
    "\n",
    "    # Initialize weights\n",
    "    x = np.zeros(asset.shape[0])\n",
    "\n",
    "    # Iterate through weights to achieve feasibility\n",
    "    for i in range(len(x)):\n",
    "        max_increase = u[i] - x[i]\n",
    "        total = np.sum(x)\n",
    "        # If max_increase keeps sum below 1, add whole increase\n",
    "        if total + max_increase <= 1:\n",
    "            x[i] += max_increase\n",
    "        # Otherwise, only add as much as possible\n",
    "        else:\n",
    "            x[i] += (1 - total)\n",
    "        # Stop if the last increase reached feasibility\n",
    "        if np.sum(x) == 1:\n",
    "            break\n",
    "    return x"
   ]
  },
  {
   "cell_type": "code",
   "execution_count": null,
   "metadata": {},
   "outputs": [],
   "source": [
    "# Improve initial guess\n",
    "def Improvement_phase(x, Lambda=1.0):\n",
    "# Set initial optimal_cost to a big number\n",
    "    optimal_cost = 100000000\n",
    "# Loop through every possible pair of assets\n",
    "    for i in range(0,len(x)-1):\n",
    "        for j in range(i+1,len(x)):\n",
    "            # Calculate a and b constants\n",
    "            a = Lambda * (sample_covariance_matrix[i][i] + sample_covariance_matrix[j][j] - 2*sample_covariance_matrix[i][j])\n",
    "            b1 = -x[i]*sample_covariance_matrix[i][i] + x[j]*sample_covariance_matrix[j][j] \\\n",
    "            + (x[i]-x[j])*sample_covariance_matrix[i][j]\n",
    "            b2 = sample_covariance_matrix[:,j] - sample_covariance_matrix[:,i]\n",
    "            b2 = b2.reshape(b2.shape[0], 1)\n",
    "            b2[i][0] = 0.0\n",
    "            b2[j][0] = 0.0\n",
    "            b3 = np.dot(b2.transpose(), x)\n",
    "            b = 2*Lambda*(b1+b3)+(sample_mean_returns[i]-sample_mean_returns[j])\n",
    "            \n",
    "            # Calculate true epsilon within feasibility bounds\n",
    "            epsilon_plus = min(x[i] - l[i], u[j] - x[j])\n",
    "            epsilon_minus = min(u[i] - x[i], x[j] - l[j])\n",
    "            # Special case if a is zero\n",
    "            if a == 0:\n",
    "                # Choose between moving all weight from one asset or the other\n",
    "                if b >= 0:\n",
    "                    epsilon = -epsilon_minus\n",
    "                else:\n",
    "                    epsilon = epsilon_plus\n",
    "            # Otherwise, epsilon is calculated normally\n",
    "            else:\n",
    "                epsilon = -b/(2*a)\n",
    "            if epsilon < -epsilon_minus:\n",
    "                epsilon = -epsilon_minus\n",
    "            elif epsilon > epsilon_plus:\n",
    "                epsilon = epsilon_plus\n",
    "            # Shift weight\n",
    "            x[i] = x[i] - epsilon\n",
    "            x[j] = x[j] + epsilon\n",
    "\n",
    "        #Calculate returns\n",
    "        returns = np.dot(sample_mean_returns, x)\n",
    "#Calculate variance method 1\n",
    "        x0 = np.expand_dims(x, axis = 1)\n",
    "        temp = np.dot(x0.T, sample_covariance_matrix)\n",
    "        variance = np.dot(temp, x0)\n",
    "#Calculate variance method 2\n",
    "#         variance = 0\n",
    "#         for i in range(0, len(x)):\n",
    "#             variance += sample_covariance_matrix[i][i] * x[i] * x[i]\n",
    "#         for i in range(0, len(x)-1):\n",
    "#             for j in range(i+1, len(x)):\n",
    "#                 variance += 2*sample_covariance_matrix[i][j]*x[i]*x[j]\n",
    "        #Calculate cost\n",
    "        cost = Lambda*variance - returns\n",
    "        #Record the minimum cost\n",
    "        if optimal_cost > cost:\n",
    "            optimal_x = x\n",
    "            optimal_returns = returns\n",
    "            optimal_variance = variance\n",
    "            optimal_cost = cost\n",
    "    return optimal_x, optimal_returns, optimal_variance, optimal_cost"
   ]
  },
  {
   "cell_type": "code",
   "execution_count": null,
   "metadata": {},
   "outputs": [],
   "source": [
    "x = Achieve_feasibility(asset)\n",
    "portfolio, returns, variance, cost = Improvement_phase(x, 1)"
   ]
  },
  {
   "cell_type": "markdown",
   "metadata": {},
   "source": [
    "# For lambda = 0, how many assets do you have in your optimal basket, and what risk (total variance) do you have?"
   ]
  },
  {
   "cell_type": "code",
   "execution_count": null,
   "metadata": {},
   "outputs": [],
   "source": [
    "x = Achieve_feasibility(asset)\n",
    "portfolio, returns, variance_s2_0, cost = Improvement_phase(x, 0)"
   ]
  },
  {
   "cell_type": "code",
   "execution_count": null,
   "metadata": {},
   "outputs": [],
   "source": [
    "maxindex  = np.argmax(portfolio)\n",
    "maxindex_sample  = np.argmax(sample_mean_returns)\n",
    "print(\"Given lambda=0, the amount of assets in our optimal basket is %d, which is the %dth stock.\" \\\n",
    "      % (len(portfolio[portfolio>0]), maxindex))\n",
    "print(\"This is the same number of stock %d, which has maximum mean returns.\" % maxindex_sample)\n",
    "print(\"The risk (total variance) would be %f\" % variance_s2_0)"
   ]
  },
  {
   "cell_type": "markdown",
   "metadata": {},
   "source": [
    "# Plot an approximate risk (variance) v. return curve by running the optimization over different choices of lambda"
   ]
  },
  {
   "cell_type": "code",
   "execution_count": null,
   "metadata": {},
   "outputs": [],
   "source": [
    "import matplotlib.pyplot as plt\n",
    "v = []\n",
    "r = []\n",
    "for lam in np.arange(0, 3, 0.1):\n",
    "    portfolio, returns, variance, cost = Improvement_phase(x, lam)\n",
    "    v.append(variance[0][0])\n",
    "    r.append(returns)\n",
    "\n",
    "plt.plot(v, r, 'r-', label='curve')\n",
    "plt.xlabel('variance')\n",
    "plt.ylabel('returns')\n",
    "plt.legend()\n",
    "plt.grid(True)\n",
    "plt.show()"
   ]
  },
  {
   "cell_type": "code",
   "execution_count": null,
   "metadata": {},
   "outputs": [],
   "source": [
    "portfolio, returns, variance_s2_min, cost = Improvement_phase(x, 10000)"
   ]
  },
  {
   "cell_type": "code",
   "execution_count": null,
   "metadata": {},
   "outputs": [],
   "source": [
    "print(\"Given lambda = 10000, the smallest variance we calculate is %.10f\" % variance_s2_min)"
   ]
  },
  {
   "cell_type": "markdown",
   "metadata": {},
   "source": [
    "# Define s2_mid = 0.5(variance_3 + variance_4).  Estimate the value of lambda needed so that your optimal portfolio has variance s2_mid."
   ]
  },
  {
   "cell_type": "code",
   "execution_count": null,
   "metadata": {},
   "outputs": [],
   "source": [
    "#binary search\n",
    "x = Achieve_feasibility(asset)\n",
    "s2_0 = variance_s2_0\n",
    "s2_min = variance_s2_min\n",
    "lambda_left = 0\n",
    "lambda_right = 0.1\n",
    "s2_mid = 0.5 * (s2_0 + s2_min)\n",
    "while 1:\n",
    "    lambda_search = 0.5 * (lambda_left + lambda_right)\n",
    "    portfolio, returns, variance_search, cost = Improvement_phase(x, lambda_search)\n",
    "    if abs(variance_search - s2_mid) <= 0.0001:\n",
    "        break\n",
    "    else:\n",
    "        if variance_search > s2_mid:\n",
    "            lambda_left = lambda_search\n",
    "        elif variance_search < s2_mid:\n",
    "            lambda_right = lambda_search\n",
    "\n",
    "print(\"The value of lambda needed so that our optimal portfolio has variance s2_mid is %.8f\" % lambda_search)"
   ]
  },
  {
   "cell_type": "code",
   "execution_count": null,
   "metadata": {},
   "outputs": [],
   "source": [
    "#sanity check, when lambda = lambda_search, calculate the variance\n",
    "portfolio, returns, variance_check, cost = Improvement_phase(x, lambda_search)\n",
    "print(\"s2_mid is %.6f\" % s2_mid)\n",
    "print(\"variance_check is %.6f\" % variance_check)"
   ]
  },
  {
   "cell_type": "code",
   "execution_count": null,
   "metadata": {},
   "outputs": [],
   "source": []
  }
 ],
 "metadata": {
  "kernelspec": {
   "display_name": "Python 3",
   "language": "python",
   "name": "python3"
  },
  "language_info": {
   "codemirror_mode": {
    "name": "ipython",
    "version": 3
   },
   "file_extension": ".py",
   "mimetype": "text/x-python",
   "name": "python",
   "nbconvert_exporter": "python",
   "pygments_lexer": "ipython3",
   "version": "3.7.4"
  },
  "toc": {
   "base_numbering": 1,
   "nav_menu": {},
   "number_sections": true,
   "sideBar": true,
   "skip_h1_title": false,
   "title_cell": "Table of Contents",
   "title_sidebar": "Contents",
   "toc_cell": false,
   "toc_position": {},
   "toc_section_display": true,
   "toc_window_display": false
  }
 },
 "nbformat": 4,
 "nbformat_minor": 2
}
