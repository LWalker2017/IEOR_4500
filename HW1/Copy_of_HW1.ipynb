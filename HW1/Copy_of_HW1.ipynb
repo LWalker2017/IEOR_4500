{
 "cells": [
  {
   "cell_type": "code",
   "execution_count": 0,
   "metadata": {
    "colab": {
     "base_uri": "https://localhost:8080/",
     "height": 34
    },
    "colab_type": "code",
    "id": "XKvpcdou93GG",
    "outputId": "36df8317-ce9c-4560-98a2-cc248cbd8531"
   },
   "outputs": [
    {
     "name": "stdout",
     "output_type": "stream",
     "text": [
      "Mounted at /content/drive/\n"
     ]
    }
   ],
   "source": [
    "from google.colab import drive\n",
    "import io\n",
    "import os\n",
    "\n",
    "import numpy as np\n",
    "import matplotlib.pyplot as plt\n",
    "\n",
    "drive.mount(\"/content/drive/\", force_remount=True)"
   ]
  },
  {
   "cell_type": "markdown",
   "metadata": {
    "colab_type": "text",
    "id": "w244xB6Eop_e"
   },
   "source": [
    "# **1. Calculate Mean and Covariance**"
   ]
  },
  {
   "cell_type": "code",
   "execution_count": 0,
   "metadata": {
    "colab": {},
    "colab_type": "code",
    "id": "fk1X-n7Y-84X"
   },
   "outputs": [],
   "source": [
    "# Read input prices\n",
    "pricesFile = open('russell_prices.txt', \"r\")\n",
    "pricesFile=pricesFile.readlines()\n",
    "prices = []\n",
    "\n",
    "for line in pricesFile[2:]:\n",
    "    prices.append([float(x) for x in line.split()])\n",
    "\n",
    "# Turn to numpy\n",
    "prices = np.array(prices)\n",
    "# Calculate mean returns\n",
    "returns = np.diff(prices)/prices[:,:-1]\n",
    "meanReturns = np.mean(returns, 1)\n",
    " \n",
    "# Calculate covariance\n",
    "covarianceMatrix = np.cov(returns)\n"
   ]
  },
  {
   "cell_type": "markdown",
   "metadata": {
    "colab_type": "text",
    "id": "umLlB7oMQfBQ"
   },
   "source": [
    "# **2. Step 1: Achieve Feasibility**"
   ]
  },
  {
   "cell_type": "code",
   "execution_count": 0,
   "metadata": {
    "colab": {},
    "colab_type": "code",
    "id": "FbZVlLJbAXqG"
   },
   "outputs": [],
   "source": [
    "# Set constraints\n",
    "u=np.ones(len(returns))\n",
    "l=np.zeros(len(returns))\n",
    "\n",
    "# Initialize algorithm\n",
    "def initialize():\n",
    "\n",
    "  # If constraints cause infeasibility, halt\n",
    "  if np.sum(u)<1 or np.sum(l)>1:\n",
    "    print(\"Infeasible\")\n",
    "    return\n",
    "    \n",
    "  # Initialize weights\n",
    "  x=np.zeros(len(returns))\n",
    "  \n",
    "  # Iterate through weights to achieve feasibility\n",
    "  for i in range(len(x)):\n",
    "    max_increase = u[i] - x[i]\n",
    "    total = np.sum(x)\n",
    "    # If max_increase keeps sum below 1, add whole increase\n",
    "    if total + max_increase <= 1:\n",
    "      x[i] += max_increase\n",
    "    # Otherwise, only add as much as possible\n",
    "    else:\n",
    "      x[i] += (1-total)\n",
    "    # Stop if the last increase reached feasibility\n",
    "    if np.sum(x) == 1:\n",
    "      break\n",
    "  return x\n"
   ]
  },
  {
   "cell_type": "code",
   "execution_count": 0,
   "metadata": {
    "colab": {},
    "colab_type": "code",
    "id": "JwVkhX6RN6UG"
   },
   "outputs": [],
   "source": [
    "lamda = 1\n",
    "\n",
    "# Improve initial guess\n",
    "def improve(x, lamda):\n",
    "  # Loop through every possible pair of assets\n",
    "  # Each switches the optimal weight, so iterating every pair will give optimal\n",
    "  for i in range(0,len(x)-1):\n",
    "    for j in range(i+1,len(x)):\n",
    "      # Calculate a and b constants\n",
    "      # The caalculation of b1 combines the stray terms into the sum, which is equivalent\n",
    "      a = lamda * (covarianceMatrix[i][i]+covarianceMatrix[j][j]-2*covarianceMatrix[i][j])\n",
    "      b1 = np.dot(x, (covarianceMatrix[j,:] - covarianceMatrix[i,:]))\n",
    "      \n",
    "      b = 2*lamda*b1+(meanReturns[i]-meanReturns[j])\n",
    "      # Special case if a is zero\n",
    "      if a == 0:\n",
    "        # Choose between moving all weight from one asset or the other\n",
    "        if b >= 0:\n",
    "          epsilon = -1\n",
    "        else:\n",
    "          epsilon = 1\n",
    "      # Otherwise, psilon is calculated normally\n",
    "      else:\n",
    "        epsilon = -b/(2*a)\n",
    "        \n",
    "      # Calculate true epsilon within feasibility bounds\n",
    "      epsilon_plus = min(x[i] - l[i], u[j] - x[j])\n",
    "      epsilon_minus = min(u[i] - x[i], x[j] - l[j])\n",
    "      if epsilon < -epsilon_minus:\n",
    "        epsilon = -epsilon_minus\n",
    "      elif epsilon > epsilon_plus:\n",
    "        epsilon = epsilon_plus\n",
    "      # Shift weight\n",
    "      x[i] = x[i] - epsilon\n",
    "      x[j] = x[j] + epsilon\n",
    "  return x\n"
   ]
  }
 ],
 "metadata": {
  "colab": {
   "collapsed_sections": [],
   "name": "Copy of HW1.ipynb",
   "provenance": [],
   "toc_visible": true
  },
  "kernelspec": {
   "display_name": "Python 3",
   "language": "python",
   "name": "python3"
  },
  "language_info": {
   "codemirror_mode": {
    "name": "ipython",
    "version": 3
   },
   "file_extension": ".py",
   "mimetype": "text/x-python",
   "name": "python",
   "nbconvert_exporter": "python",
   "pygments_lexer": "ipython3",
   "version": "3.6.3"
  },
  "toc": {
   "base_numbering": 1,
   "nav_menu": {},
   "number_sections": true,
   "sideBar": true,
   "skip_h1_title": false,
   "title_cell": "Table of Contents",
   "title_sidebar": "Contents",
   "toc_cell": false,
   "toc_position": {},
   "toc_section_display": true,
   "toc_window_display": false
  }
 },
 "nbformat": 4,
 "nbformat_minor": 1
}
