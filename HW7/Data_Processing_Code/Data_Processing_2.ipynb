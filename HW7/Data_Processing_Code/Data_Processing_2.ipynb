{
 "cells": [
  {
   "cell_type": "code",
   "execution_count": 1,
   "metadata": {},
   "outputs": [],
   "source": [
    "import numpy as np\n",
    "import pandas as pd\n",
    "import os\n",
    "\n",
    "DATA_PATH = './500/'\n",
    "Ticker = pd.read_csv('./Data/TickersCorrV2.csv', header=0)\n",
    "file_list = Ticker['Tickers'].values\n",
    "X = pd.read_csv(DATA_PATH + file_list[0] + '.csv', header=0)\n",
    "X.drop(columns=['High', 'Low', 'Open', 'Volume', 'Adj Close'], inplace=True)\n",
    "# name = file_list[0].strip('.csv')\n",
    "X.rename(columns={'Close': file_list[0]}, inplace=True)\n",
    "for i in range(1, len(file_list)):\n",
    "    try:\n",
    "        Y = pd.read_csv(DATA_PATH + file_list[i] + '.csv', header=0)\n",
    "        Y.drop(columns=['High', 'Low', 'Open', 'Volume', 'Adj Close'], inplace=True)\n",
    "        Y.rename(columns={'Close': file_list[i]}, inplace=True)\n",
    "        X = pd.merge(X, Y, how='inner', on='Date')\n",
    "    except:\n",
    "        print(\"The %s stock data is missing.\" % file_list[i])"
   ]
  },
  {
   "cell_type": "code",
   "execution_count": 2,
   "metadata": {},
   "outputs": [],
   "source": [
    "# Drop the last day\n",
    "X.drop(X.index[465], inplace=True)\n",
    "X.to_csv('./Data/Closing_Price.csv')\n",
    "\n",
    "# To npy\n",
    "X.drop(columns=['Date'], inplace=True)\n",
    "X = X.values\n",
    "X = X.T\n",
    "np.save('./Data/Closing_Price.npy', X)"
   ]
  },
  {
   "cell_type": "code",
   "execution_count": null,
   "metadata": {},
   "outputs": [],
   "source": []
  }
 ],
 "metadata": {
  "kernelspec": {
   "display_name": "Python 3",
   "language": "python",
   "name": "python3"
  },
  "language_info": {
   "codemirror_mode": {
    "name": "ipython",
    "version": 3
   },
   "file_extension": ".py",
   "mimetype": "text/x-python",
   "name": "python",
   "nbconvert_exporter": "python",
   "pygments_lexer": "ipython3",
   "version": "3.6.3"
  },
  "toc": {
   "base_numbering": 1,
   "nav_menu": {},
   "number_sections": true,
   "sideBar": true,
   "skip_h1_title": false,
   "title_cell": "Table of Contents",
   "title_sidebar": "Contents",
   "toc_cell": false,
   "toc_position": {},
   "toc_section_display": true,
   "toc_window_display": false
  }
 },
 "nbformat": 4,
 "nbformat_minor": 2
}
