{
 "cells": [
  {
   "cell_type": "code",
   "execution_count": 1,
   "metadata": {
    "scrolled": false
   },
   "outputs": [],
   "source": [
    "import numpy as np\n",
    "import pandas as pd\n",
    "import os\n",
    "\n",
    "_SPX = pd.read_csv('./_SPX.csv', header=0)\n",
    "# The total S&P 500 trading volume at the close of day t\n",
    "S_t = _SPX['Volume'].values\n",
    "S_t = S_t[1:]\n",
    "np.save('Trading_Volume.npy', S_t)"
   ]
  },
  {
   "cell_type": "code",
   "execution_count": 2,
   "metadata": {},
   "outputs": [],
   "source": [
    "def file_name_walk(file_dir):\n",
    "    for root, dirs, files in os.walk(file_dir):\n",
    "#         print(\"root\", root)  # 当前目录路径\n",
    "#         print(\"dirs\", dirs)  # 当前路径下所有子目录\n",
    "#         print(\"files\", files)  # 当前路径下所有非目录子文件\n",
    "        return files\n",
    "\n",
    "DATA_PATH = './500/'\n",
    "file_list = file_name_walk('./500')\n",
    "X = pd.read_csv(DATA_PATH + file_list[0], header=0)\n",
    "X.drop(columns=['High', 'Low', 'Open', 'Volume', 'Adj Close'], inplace=True)\n",
    "name = file_list[0].strip('.csv')\n",
    "X.rename(columns={'Close': name}, inplace=True)\n",
    "for i in range(1, len(file_list)):\n",
    "    try:\n",
    "        Y = pd.read_csv(DATA_PATH + file_list[i], header=0)\n",
    "        Y.drop(columns=['High', 'Low', 'Open', 'Volume', 'Adj Close'], inplace=True)\n",
    "        name = file_list[i].strip('.csv')\n",
    "        Y.rename(columns={'Close': name}, inplace=True)\n",
    "        X = pd.merge(X, Y, how='left', on='Date')\n",
    "    except:\n",
    "        print(\"The %s stock data is missing.\" % file_list[i])\n",
    "        \n",
    "# fillna填充缺失数据\n",
    "X.fillna(0, inplace=True)\n",
    "X.drop(X.index[[465,466,467,469]], inplace=True)\n",
    "X.to_csv('Closing_Price.csv')\n",
    "\n",
    "# A = X['Date'].to_list()\n",
    "# B = set(A)\n",
    "# for item in B:\n",
    "#     if A.count(item)>1:\n",
    "#         print(\"the %s has found %d\" %(item, A.count(item)))\n",
    "# 手动处理多余数据，然后重新读入"
   ]
  },
  {
   "cell_type": "code",
   "execution_count": 10,
   "metadata": {},
   "outputs": [
    {
     "data": {
      "text/plain": [
       "(465, 496)"
      ]
     },
     "execution_count": 10,
     "metadata": {},
     "output_type": "execute_result"
    }
   ],
   "source": [
    "X_t = pd.read_csv('./Closing_Price.csv', header=0)\n",
    "X_t.drop(columns=['Date'], inplace=True)\n",
    "X_t = X_t.values\n",
    "np.save('Closing_Price.npy', X_t)"
   ]
  },
  {
   "cell_type": "code",
   "execution_count": null,
   "metadata": {},
   "outputs": [],
   "source": [
    "X = X.T\n",
    "Y = Y[:, np.newaxis]\n",
    "Y = Y.T\n",
    "np.save('./Data/Closing_Price.npy', X)\n",
    "np.save('./Data/Trading_Volume.npy', Y)"
   ]
  }
 ],
 "metadata": {
  "kernelspec": {
   "display_name": "Python 3",
   "language": "python",
   "name": "python3"
  },
  "language_info": {
   "codemirror_mode": {
    "name": "ipython",
    "version": 3
   },
   "file_extension": ".py",
   "mimetype": "text/x-python",
   "name": "python",
   "nbconvert_exporter": "python",
   "pygments_lexer": "ipython3",
   "version": "3.6.3"
  },
  "toc": {
   "base_numbering": 1,
   "nav_menu": {},
   "number_sections": true,
   "sideBar": true,
   "skip_h1_title": false,
   "title_cell": "Table of Contents",
   "title_sidebar": "Contents",
   "toc_cell": false,
   "toc_position": {},
   "toc_section_display": true,
   "toc_window_display": false
  }
 },
 "nbformat": 4,
 "nbformat_minor": 2
}
