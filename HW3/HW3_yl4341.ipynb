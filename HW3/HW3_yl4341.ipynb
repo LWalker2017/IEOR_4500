{
 "cells": [
  {
   "cell_type": "code",
   "execution_count": 7,
   "metadata": {},
   "outputs": [
    {
     "name": "stdout",
     "output_type": "stream",
     "text": [
      "Input the values alpha, pi:0.001 0.5\n",
      "Input the values N (number of shares to sell) and T (number of periods available):10000 20\n",
      "Given that P0 is 1.0, the max revenue is 9026.745211\n"
     ]
    }
   ],
   "source": [
    "import numpy as np\n",
    "import matplotlib.pyplot as plt\n",
    "\n",
    "alpha, pi = map(float, input(\"Input the values alpha, pi:\").split())\n",
    "N, T = map(int, input(\"Input the values N (number of shares to sell) and T (number of periods available):\").split())\n",
    "# alpha, pi, N, T = 1e-03, 0.5, 10000, 20\n",
    "W = np.zeros((N+1,T))\n",
    "W_N = np.zeros((N+1,T))\n",
    "temp = np.arange(0, N+1, 1)\n",
    "W[:, T-1] = 1 - alpha * (temp**pi)\n",
    "W[0][T-1] = 0\n",
    "W_N[:, T-1] = temp\n",
    "\n",
    "# K is the shares left to trade\n",
    "# ni is the shares that sells today\n",
    "for i in range(T-2, -1, -1):\n",
    "    for K in range(1, N+1):\n",
    "        ni = np.arange(0, K+1)\n",
    "        ni = ni[:,np.newaxis]\n",
    "        coefficient = 1 - alpha * (ni**pi)\n",
    "        W_next = ni + W[K-ni, i+1]\n",
    "        ni_array = coefficient * W_next\n",
    "        W[K][i] = np.max(ni_array)\n",
    "        W_N[K][i] = np.argmax(ni_array)\n",
    "        \n",
    "print(\"Given that P0 is 1.0, the max revenue is %f\" % W[N][0])"
   ]
  },
  {
   "cell_type": "code",
   "execution_count": 8,
   "metadata": {},
   "outputs": [
    {
     "name": "stdout",
     "output_type": "stream",
     "text": [
      "[0.0, 0.0, 0.0, 0.0, 0.0, 0.0, 0.0, 0.0, 0.0, 0.0, 0.0, 0.0, 0.0, 0.0, 8326.0, 1429.0, 211.0, 29.0, 4.0, 1.0]\n"
     ]
    },
    {
     "data": {
      "image/png": "[encoded data removed]",
      "text/plain": [
       "<matplotlib.figure.Figure at 0x881fcd0>"
      ]
     },
     "metadata": {
      "needs_background": "light"
     },
     "output_type": "display_data"
    }
   ],
   "source": [
    "selling_strategy = []\n",
    "K = int(N)\n",
    "for t in range(T):\n",
    "    selling_strategy.append(W_N[K][t])\n",
    "    K -= W_N[K][t]\n",
    "    K = int(K)\n",
    "\n",
    "print(selling_strategy)\n",
    "    \n",
    "if K == 0:\n",
    "    plt.plot(range(T), selling_strategy, 'r-', label='opt sequence')\n",
    "    plt.scatter(range(T), selling_strategy, c='b')\n",
    "    plt.xlabel('Time periods')\n",
    "    plt.ylabel('Shares sold')\n",
    "    plt.legend()\n",
    "    plt.grid(True)\n",
    "    plt.show()"
   ]
  },
  {
   "cell_type": "code",
   "execution_count": null,
   "metadata": {},
   "outputs": [],
   "source": []
  }
 ],
 "metadata": {
  "kernelspec": {
   "display_name": "Python 3",
   "language": "python",
   "name": "python3"
  },
  "language_info": {
   "codemirror_mode": {
    "name": "ipython",
    "version": 3
   },
   "file_extension": ".py",
   "mimetype": "text/x-python",
   "name": "python",
   "nbconvert_exporter": "python",
   "pygments_lexer": "ipython3",
   "version": "3.6.3"
  },
  "toc": {
   "base_numbering": 1,
   "nav_menu": {},
   "number_sections": true,
   "sideBar": true,
   "skip_h1_title": false,
   "title_cell": "Table of Contents",
   "title_sidebar": "Contents",
   "toc_cell": false,
   "toc_position": {},
   "toc_section_display": true,
   "toc_window_display": false
  }
 },
 "nbformat": 4,
 "nbformat_minor": 2
}
