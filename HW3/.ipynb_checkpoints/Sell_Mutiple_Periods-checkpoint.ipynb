{
 "cells": [
  {
   "cell_type": "code",
   "execution_count": 17,
   "metadata": {},
   "outputs": [],
   "source": [
    "import numpy as np\n",
    "import matplotlib.pyplot as plt\n",
    "\n",
    "def selling_one_day(alpha, pi, N, T):\n",
    "    W = np.zeros((N+1,T))\n",
    "    W_N = np.zeros((N+1,T))\n",
    "    temp = np.arange(0, N+1, 1)\n",
    "    W[:, T-1] = 1 - alpha * (temp**pi)\n",
    "    W[0][T-1] = 0\n",
    "    W_N[:, T-1] = temp\n",
    "\n",
    "    # K is the shares left to trade\n",
    "    # ni is the shares that sells today\n",
    "    for i in range(T-2, -1, -1):\n",
    "        for K in range(1, N+1):\n",
    "            ni = np.arange(0, K+1)\n",
    "            ni = ni[:,np.newaxis]\n",
    "            coefficient = 1 - alpha * (ni**pi)\n",
    "            W_next = ni + W[K-ni, i+1]\n",
    "            ni_array = coefficient * W_next\n",
    "            W[K][i] = np.max(ni_array)\n",
    "            W_N[K][i] = np.argmax(ni_array)\n",
    "    \n",
    "    return W_N[N][0]"
   ]
  },
  {
   "cell_type": "code",
   "execution_count": 18,
   "metadata": {},
   "outputs": [
    {
     "name": "stdout",
     "output_type": "stream",
     "text": [
      "The 20th day should sell 731 stocks\n",
      "The 19th day should sell 726 stocks\n",
      "The 18th day should sell 719 stocks\n",
      "The 17th day should sell 711 stocks\n",
      "The 16th day should sell 701 stocks\n",
      "The 15th day should sell 688 stocks\n",
      "The 14th day should sell 672 stocks\n",
      "The 13th day should sell 652 stocks\n",
      "The 12th day should sell 628 stocks\n",
      "The 11th day should sell 598 stocks\n",
      "The 10th day should sell 562 stocks\n",
      "The 9th day should sell 519 stocks\n",
      "The 8th day should sell 469 stocks\n",
      "The 7th day should sell 412 stocks\n",
      "The 6th day should sell 352 stocks\n",
      "The 5th day should sell 291 stocks\n",
      "The 4th day should sell 234 stocks\n",
      "The 3th day should sell 186 stocks\n",
      "The 2th day should sell 148 stocks\n",
      "The 1th day should sell 1 stocks\n"
     ]
    }
   ],
   "source": [
    "alpha, pi, N, T = 1e-03, 0.8, 10000, 20\n",
    "for t in range(T, 0, -1):\n",
    "    N = int(N)\n",
    "    One_Day_Sell = selling_one_day(alpha, pi, N, t)\n",
    "    N -= One_Day_Sell\n",
    "    print(\"The %sth day should sell %.f stocks\" % (t, One_Day_Sell))"
   ]
  },
  {
   "cell_type": "code",
   "execution_count": 3,
   "metadata": {},
   "outputs": [
    {
     "name": "stdout",
     "output_type": "stream",
     "text": [
      "Input the values alpha, pi:0.001 0.8\n",
      "Input the values N (number of shares to sell) and T (number of periods available):10000 20\n",
      "Given that P0 is 1.0, the max revenue is 2860.151502\n"
     ]
    }
   ],
   "source": [
    "import numpy as np\n",
    "import matplotlib.pyplot as plt\n",
    "\n",
    "alpha, pi = map(float, input(\"Input the values alpha, pi:\").split())\n",
    "N, T = map(int, input(\"Input the values N (number of shares to sell) and T (number of periods available):\").split())\n",
    "# alpha, pi, N, T = 1e-03, 0.5, 10000, 20\n",
    "W = np.zeros((N+1,T))\n",
    "W_N = np.zeros((N+1,T))\n",
    "temp = np.arange(0, N+1, 1)\n",
    "W[:, T-1] = 1 - alpha * (temp**pi)\n",
    "W[0][T-1] = 0\n",
    "W_N[:, T-1] = temp\n",
    "\n",
    "# K is the shares left to trade\n",
    "# ni is the shares that sells today\n",
    "for i in range(T-2, -1, -1):\n",
    "    for K in range(1, N+1):\n",
    "        ni = np.arange(0, K+1)\n",
    "        ni = ni[:,np.newaxis]\n",
    "        coefficient = 1 - alpha * (ni**pi)\n",
    "        W_next = ni + W[K-ni, i+1]\n",
    "        ni_array = coefficient * W_next\n",
    "        W[K][i] = np.max(ni_array)\n",
    "        W_N[K][i] = np.argmax(ni_array)\n",
    "        \n",
    "print(\"Given that P0 is 1.0, the max revenue is %f\" % W[N][0])"
   ]
  },
  {
   "cell_type": "code",
   "execution_count": 4,
   "metadata": {},
   "outputs": [
    {
     "name": "stdout",
     "output_type": "stream",
     "text": [
      "[731.0, 726.0, 719.0, 711.0, 701.0, 688.0, 672.0, 652.0, 628.0, 598.0, 562.0, 519.0, 469.0, 412.0, 352.0, 291.0, 234.0, 186.0, 148.0, 1.0]\n"
     ]
    },
    {
     "data": {
      "image/png": "[encoded data removed]",
      "text/plain": [
       "<matplotlib.figure.Figure at 0x59346f0>"
      ]
     },
     "metadata": {
      "needs_background": "light"
     },
     "output_type": "display_data"
    }
   ],
   "source": [
    "selling_strategy = []\n",
    "K = int(N)\n",
    "for t in range(T):\n",
    "    selling_strategy.append(W_N[K][t])\n",
    "    K -= W_N[K][t]\n",
    "    K = int(K)\n",
    "\n",
    "print(selling_strategy)    \n",
    "    \n",
    "if K == 0:\n",
    "    plt.plot(range(T), selling_strategy, 'r-', label='opt sequence')\n",
    "    plt.scatter(range(T), selling_strategy, c='b')\n",
    "    plt.xlabel('Time periods')\n",
    "    plt.ylabel('Shares sold')\n",
    "    plt.legend()\n",
    "    plt.grid(True)\n",
    "    plt.show()"
   ]
  },
  {
   "cell_type": "code",
   "execution_count": null,
   "metadata": {},
   "outputs": [],
   "source": []
  }
 ],
 "metadata": {
  "kernelspec": {
   "display_name": "Python 3",
   "language": "python",
   "name": "python3"
  },
  "language_info": {
   "codemirror_mode": {
    "name": "ipython",
    "version": 3
   },
   "file_extension": ".py",
   "mimetype": "text/x-python",
   "name": "python",
   "nbconvert_exporter": "python",
   "pygments_lexer": "ipython3",
   "version": "3.6.3"
  },
  "toc": {
   "base_numbering": 1,
   "nav_menu": {},
   "number_sections": true,
   "sideBar": true,
   "skip_h1_title": false,
   "title_cell": "Table of Contents",
   "title_sidebar": "Contents",
   "toc_cell": false,
   "toc_position": {},
   "toc_section_display": true,
   "toc_window_display": false
  }
 },
 "nbformat": 4,
 "nbformat_minor": 2
}
